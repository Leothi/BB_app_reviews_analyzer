{
 "cells": [
  {
   "cell_type": "code",
   "execution_count": 2,
   "metadata": {},
   "outputs": [],
   "source": [
    "import random\n",
    "import pandas as pd\n",
    "import matplotlib.pyplot as plt\n",
    "\n",
    "from sklearn.feature_extraction.text import CountVectorizer\n",
    "from sklearn.decomposition import LatentDirichletAllocation\n",
    "\n",
    "from utils_text import preprocess_text, preprocess_text_stop"
   ]
  },
  {
   "cell_type": "markdown",
   "metadata": {},
   "source": [
    "## Importando Dataset"
   ]
  },
  {
   "cell_type": "code",
   "execution_count": 5,
   "metadata": {},
   "outputs": [],
   "source": [
    "df = pd.read_csv('scrapper_results.csv')"
   ]
  },
  {
   "cell_type": "code",
   "execution_count": 6,
   "metadata": {},
   "outputs": [
    {
     "data": {
      "text/html": [
       "<div>\n",
       "<style scoped>\n",
       "    .dataframe tbody tr th:only-of-type {\n",
       "        vertical-align: middle;\n",
       "    }\n",
       "\n",
       "    .dataframe tbody tr th {\n",
       "        vertical-align: top;\n",
       "    }\n",
       "\n",
       "    .dataframe thead th {\n",
       "        text-align: right;\n",
       "    }\n",
       "</style>\n",
       "<table border=\"1\" class=\"dataframe\">\n",
       "  <thead>\n",
       "    <tr style=\"text-align: right;\">\n",
       "      <th></th>\n",
       "      <th>name</th>\n",
       "      <th>raw_review</th>\n",
       "      <th>date</th>\n",
       "    </tr>\n",
       "  </thead>\n",
       "  <tbody>\n",
       "    <tr>\n",
       "      <th>0</th>\n",
       "      <td>Otilio Davini</td>\n",
       "      <td>Liberação para efetuar pagamentos pelo app é r...</td>\n",
       "      <td>27 de janeiro de 2020</td>\n",
       "    </tr>\n",
       "    <tr>\n",
       "      <th>1</th>\n",
       "      <td>Irapuan Braga</td>\n",
       "      <td>O sistema BB Code, quando funciona, é bom. Mas...</td>\n",
       "      <td>20 de janeiro de 2020</td>\n",
       "    </tr>\n",
       "    <tr>\n",
       "      <th>2</th>\n",
       "      <td>Allan</td>\n",
       "      <td>App é bem interativo, te dá bastante opções de...</td>\n",
       "      <td>10 de janeiro de 2020</td>\n",
       "    </tr>\n",
       "    <tr>\n",
       "      <th>3</th>\n",
       "      <td>Diego Santos</td>\n",
       "      <td>Excelente! Tenho algumas sugestões de melhoria...</td>\n",
       "      <td>26 de janeiro de 2020</td>\n",
       "    </tr>\n",
       "    <tr>\n",
       "      <th>4</th>\n",
       "      <td>Mateus Jiandotti Gonçalves</td>\n",
       "      <td>Bom dia, já tem muito tempo que uso o app do B...</td>\n",
       "      <td>23 de janeiro de 2020</td>\n",
       "    </tr>\n",
       "  </tbody>\n",
       "</table>\n",
       "</div>"
      ],
      "text/plain": [
       "                         name  \\\n",
       "0               Otilio Davini   \n",
       "1               Irapuan Braga   \n",
       "2                       Allan   \n",
       "3                Diego Santos   \n",
       "4  Mateus Jiandotti Gonçalves   \n",
       "\n",
       "                                          raw_review                   date  \n",
       "0  Liberação para efetuar pagamentos pelo app é r...  27 de janeiro de 2020  \n",
       "1  O sistema BB Code, quando funciona, é bom. Mas...  20 de janeiro de 2020  \n",
       "2  App é bem interativo, te dá bastante opções de...  10 de janeiro de 2020  \n",
       "3  Excelente! Tenho algumas sugestões de melhoria...  26 de janeiro de 2020  \n",
       "4  Bom dia, já tem muito tempo que uso o app do B...  23 de janeiro de 2020  "
      ]
     },
     "execution_count": 6,
     "metadata": {},
     "output_type": "execute_result"
    }
   ],
   "source": [
    "df.head()"
   ]
  },
  {
   "cell_type": "code",
   "execution_count": 5,
   "metadata": {},
   "outputs": [
    {
     "name": "stdout",
     "output_type": "stream",
     "text": [
      "<class 'pandas.core.frame.DataFrame'>\n",
      "RangeIndex: 2760 entries, 0 to 2759\n",
      "Data columns (total 3 columns):\n",
      "name          2760 non-null object\n",
      "raw_review    2760 non-null object\n",
      "date          2760 non-null object\n",
      "dtypes: object(3)\n",
      "memory usage: 64.8+ KB\n"
     ]
    }
   ],
   "source": [
    "df.info()"
   ]
  },
  {
   "cell_type": "code",
   "execution_count": 9,
   "metadata": {},
   "outputs": [],
   "source": [
    "df['clean_review'] = df['raw_review'].apply(preprocess_text_stop)"
   ]
  },
  {
   "cell_type": "code",
   "execution_count": 10,
   "metadata": {},
   "outputs": [
    {
     "data": {
      "text/html": [
       "<div>\n",
       "<style scoped>\n",
       "    .dataframe tbody tr th:only-of-type {\n",
       "        vertical-align: middle;\n",
       "    }\n",
       "\n",
       "    .dataframe tbody tr th {\n",
       "        vertical-align: top;\n",
       "    }\n",
       "\n",
       "    .dataframe thead th {\n",
       "        text-align: right;\n",
       "    }\n",
       "</style>\n",
       "<table border=\"1\" class=\"dataframe\">\n",
       "  <thead>\n",
       "    <tr style=\"text-align: right;\">\n",
       "      <th></th>\n",
       "      <th>name</th>\n",
       "      <th>raw_review</th>\n",
       "      <th>date</th>\n",
       "      <th>clean_review</th>\n",
       "    </tr>\n",
       "  </thead>\n",
       "  <tbody>\n",
       "    <tr>\n",
       "      <th>0</th>\n",
       "      <td>Otilio Davini</td>\n",
       "      <td>Liberação para efetuar pagamentos pelo app é r...</td>\n",
       "      <td>27 de janeiro de 2020</td>\n",
       "      <td>liberacao efetuar pagamentos app ruim vc nao c...</td>\n",
       "    </tr>\n",
       "    <tr>\n",
       "      <th>1</th>\n",
       "      <td>Irapuan Braga</td>\n",
       "      <td>O sistema BB Code, quando funciona, é bom. Mas...</td>\n",
       "      <td>20 de janeiro de 2020</td>\n",
       "      <td>sistema bb code funciona bom algum problema ce...</td>\n",
       "    </tr>\n",
       "    <tr>\n",
       "      <th>2</th>\n",
       "      <td>Allan</td>\n",
       "      <td>App é bem interativo, te dá bastante opções de...</td>\n",
       "      <td>10 de janeiro de 2020</td>\n",
       "      <td>app bem interativo bastante opcoes transacoes ...</td>\n",
       "    </tr>\n",
       "    <tr>\n",
       "      <th>3</th>\n",
       "      <td>Diego Santos</td>\n",
       "      <td>Excelente! Tenho algumas sugestões de melhoria...</td>\n",
       "      <td>26 de janeiro de 2020</td>\n",
       "      <td>excelente algumas sugestoes melhoria notificac...</td>\n",
       "    </tr>\n",
       "    <tr>\n",
       "      <th>4</th>\n",
       "      <td>Mateus Jiandotti Gonçalves</td>\n",
       "      <td>Bom dia, já tem muito tempo que uso o app do B...</td>\n",
       "      <td>23 de janeiro de 2020</td>\n",
       "      <td>bom dia ja tempo uso app banco brasil porem co...</td>\n",
       "    </tr>\n",
       "  </tbody>\n",
       "</table>\n",
       "</div>"
      ],
      "text/plain": [
       "                         name  \\\n",
       "0               Otilio Davini   \n",
       "1               Irapuan Braga   \n",
       "2                       Allan   \n",
       "3                Diego Santos   \n",
       "4  Mateus Jiandotti Gonçalves   \n",
       "\n",
       "                                          raw_review                   date  \\\n",
       "0  Liberação para efetuar pagamentos pelo app é r...  27 de janeiro de 2020   \n",
       "1  O sistema BB Code, quando funciona, é bom. Mas...  20 de janeiro de 2020   \n",
       "2  App é bem interativo, te dá bastante opções de...  10 de janeiro de 2020   \n",
       "3  Excelente! Tenho algumas sugestões de melhoria...  26 de janeiro de 2020   \n",
       "4  Bom dia, já tem muito tempo que uso o app do B...  23 de janeiro de 2020   \n",
       "\n",
       "                                        clean_review  \n",
       "0  liberacao efetuar pagamentos app ruim vc nao c...  \n",
       "1  sistema bb code funciona bom algum problema ce...  \n",
       "2  app bem interativo bastante opcoes transacoes ...  \n",
       "3  excelente algumas sugestoes melhoria notificac...  \n",
       "4  bom dia ja tempo uso app banco brasil porem co...  "
      ]
     },
     "execution_count": 10,
     "metadata": {},
     "output_type": "execute_result"
    }
   ],
   "source": [
    "df.head()"
   ]
  },
  {
   "cell_type": "markdown",
   "metadata": {},
   "source": [
    "## Count Vectorizer"
   ]
  },
  {
   "cell_type": "code",
   "execution_count": 11,
   "metadata": {},
   "outputs": [],
   "source": [
    "cv = CountVectorizer(max_df=0.95, min_df=2, stop_words=['bb'])"
   ]
  },
  {
   "cell_type": "code",
   "execution_count": 13,
   "metadata": {},
   "outputs": [],
   "source": [
    "dtm = cv.fit_transform(df['clean_review'])"
   ]
  },
  {
   "cell_type": "code",
   "execution_count": 16,
   "metadata": {},
   "outputs": [
    {
     "data": {
      "text/plain": [
       "<2760x2221 sparse matrix of type '<class 'numpy.int64'>'\n",
       "\twith 33477 stored elements in Compressed Sparse Row format>"
      ]
     },
     "execution_count": 16,
     "metadata": {},
     "output_type": "execute_result"
    }
   ],
   "source": [
    "dtm"
   ]
  },
  {
   "cell_type": "code",
   "execution_count": 14,
   "metadata": {},
   "outputs": [],
   "source": [
    "len_words = len(cv.get_feature_names())"
   ]
  },
  {
   "cell_type": "code",
   "execution_count": 15,
   "metadata": {},
   "outputs": [
    {
     "name": "stdout",
     "output_type": "stream",
     "text": [
      "novas\n",
      "existem\n",
      "finais\n",
      "mandaram\n",
      "chave\n",
      "alteracoes\n",
      "aconteceu\n",
      "sido\n",
      "populacao\n",
      "fechando\n"
     ]
    }
   ],
   "source": [
    "for i in range(10):\n",
    "    random_word_id = random.randint(0,len_words)\n",
    "    print(cv.get_feature_names()[random_word_id])"
   ]
  },
  {
   "cell_type": "markdown",
   "metadata": {},
   "source": [
    "## LDA"
   ]
  },
  {
   "cell_type": "code",
   "execution_count": 28,
   "metadata": {},
   "outputs": [],
   "source": [
    "LDA = LatentDirichletAllocation(n_components=10,random_state=42)"
   ]
  },
  {
   "cell_type": "code",
   "execution_count": 29,
   "metadata": {},
   "outputs": [
    {
     "data": {
      "text/plain": [
       "LatentDirichletAllocation(batch_size=128, doc_topic_prior=None,\n",
       "             evaluate_every=-1, learning_decay=0.7,\n",
       "             learning_method='batch', learning_offset=10.0,\n",
       "             max_doc_update_iter=100, max_iter=10, mean_change_tol=0.001,\n",
       "             n_components=10, n_jobs=None, n_topics=None, perp_tol=0.1,\n",
       "             random_state=42, topic_word_prior=None,\n",
       "             total_samples=1000000.0, verbose=0)"
      ]
     },
     "execution_count": 29,
     "metadata": {},
     "output_type": "execute_result"
    }
   ],
   "source": [
    "LDA.fit(dtm)"
   ]
  },
  {
   "cell_type": "code",
   "execution_count": 30,
   "metadata": {},
   "outputs": [
    {
     "name": "stdout",
     "output_type": "stream",
     "text": [
      "THE TOP 15 WORDS FOR TOPIC #0\n",
      "['entrar', 'nada', 'sendo', 'corrente', 'so', 'consigo', 'dinheiro', 'fazer', 'banco', 'ja', 'pra', 'aplicativo', 'app', 'conta', 'nao']\n",
      "\n",
      "\n",
      "THE TOP 15 WORDS FOR TOPIC #1\n",
      "['excelente', 'credito', 'aplicativo', 'cartao', 'gastos', 'tempo', 'nao', 'app', 'preciso', 'vida', 'transferencias', 'fazer', 'facilita', 'pagamentos', 'bom']\n",
      "\n",
      "\n",
      "THE TOP 15 WORDS FOR TOPIC #2\n",
      "['bom', 'sempre', 'ainda', 'pagamento', 'outros', 'falta', 'nenhum', 'ate', 'informacoes', 'so', 'credito', 'aplicativo', 'cartao', 'app', 'nao']\n",
      "\n",
      "\n",
      "THE TOP 15 WORDS FOR TOPIC #3\n",
      "['perfil', 'ser', 'aplicativo', 'parte', 'conta', 'sempre', 'pra', 'porem', 'poderia', 'opcao', 'fica', 'geral', 'nao', 'bom', 'app']\n",
      "\n",
      "\n",
      "THE TOP 15 WORDS FOR TOPIC #4\n",
      "['agencia', 'casa', 'excelente', 'resolver', 'melhor', 'dia', 'brasil', 'ir', 'bom', 'otimo', 'parabens', 'app', 'tudo', 'aplicativo', 'banco']\n",
      "\n",
      "\n",
      "THE TOP 15 WORDS FOR TOPIC #5\n",
      "['eficiente', 'otimo', 'acesso', 'intuitivo', 'bem', 'excelente', 'seguro', 'simples', 'bom', 'app', 'usar', 'aplicativo', 'rapido', 'pratico', 'facil']\n",
      "\n",
      "\n",
      "THE TOP 15 WORDS FOR TOPIC #6\n",
      "['credito', 'senha', 'banco', 'eletronico', 'celular', 'nada', 'fazer', 'ja', 'caixa', 'pra', 'aplicativo', 'cartao', 'consigo', 'app', 'nao']\n",
      "\n",
      "\n",
      "THE TOP 15 WORDS FOR TOPIC #7\n",
      "['fazer', 'sempre', 'banco', 'todas', 'agencia', 'ter', 'ir', 'atende', 'necessidades', 'pra', 'nao', 'app', 'conta', 'bom', 'aplicativo']\n",
      "\n",
      "\n",
      "THE TOP 15 WORDS FOR TOPIC #8\n",
      "['banco', 'operacoes', 'vezes', 'so', 'uso', 'muita', 'sempre', 'seguranca', 'agencia', 'ser', 'gerente', 'consigo', 'fazer', 'nao', 'aplicativo']\n",
      "\n",
      "\n",
      "THE TOP 15 WORDS FOR TOPIC #9\n",
      "['transferencia', 'leitura', 'estrelas', 'ainda', 'bom', 'fazer', 'contas', 'pagamento', 'pagar', 'so', 'leitor', 'barras', 'app', 'codigo', 'nao']\n",
      "\n",
      "\n"
     ]
    }
   ],
   "source": [
    "for index,topic in enumerate(LDA.components_):\n",
    "    print(f'THE TOP 15 WORDS FOR TOPIC #{index}')\n",
    "    print([cv.get_feature_names()[i] for i in topic.argsort()[-15:]])\n",
    "    print('\\n')"
   ]
  },
  {
   "cell_type": "markdown",
   "metadata": {},
   "source": [
    "## Seeing results on DataFrame"
   ]
  },
  {
   "cell_type": "code",
   "execution_count": 31,
   "metadata": {},
   "outputs": [],
   "source": [
    "topic_results = LDA.transform(dtm)"
   ]
  },
  {
   "cell_type": "code",
   "execution_count": 32,
   "metadata": {},
   "outputs": [],
   "source": [
    "df['topic'] = topic_results.argmax(axis=1)"
   ]
  },
  {
   "cell_type": "code",
   "execution_count": 33,
   "metadata": {},
   "outputs": [
    {
     "data": {
      "text/html": [
       "<div>\n",
       "<style scoped>\n",
       "    .dataframe tbody tr th:only-of-type {\n",
       "        vertical-align: middle;\n",
       "    }\n",
       "\n",
       "    .dataframe tbody tr th {\n",
       "        vertical-align: top;\n",
       "    }\n",
       "\n",
       "    .dataframe thead th {\n",
       "        text-align: right;\n",
       "    }\n",
       "</style>\n",
       "<table border=\"1\" class=\"dataframe\">\n",
       "  <thead>\n",
       "    <tr style=\"text-align: right;\">\n",
       "      <th></th>\n",
       "      <th>name</th>\n",
       "      <th>raw_review</th>\n",
       "      <th>date</th>\n",
       "      <th>clean_review</th>\n",
       "      <th>topic</th>\n",
       "    </tr>\n",
       "  </thead>\n",
       "  <tbody>\n",
       "    <tr>\n",
       "      <th>0</th>\n",
       "      <td>Otilio Davini</td>\n",
       "      <td>Liberação para efetuar pagamentos pelo app é r...</td>\n",
       "      <td>27 de janeiro de 2020</td>\n",
       "      <td>liberacao efetuar pagamentos app ruim vc nao c...</td>\n",
       "      <td>6</td>\n",
       "    </tr>\n",
       "    <tr>\n",
       "      <th>1</th>\n",
       "      <td>Irapuan Braga</td>\n",
       "      <td>O sistema BB Code, quando funciona, é bom. Mas...</td>\n",
       "      <td>20 de janeiro de 2020</td>\n",
       "      <td>sistema bb code funciona bom algum problema ce...</td>\n",
       "      <td>2</td>\n",
       "    </tr>\n",
       "    <tr>\n",
       "      <th>2</th>\n",
       "      <td>Allan</td>\n",
       "      <td>App é bem interativo, te dá bastante opções de...</td>\n",
       "      <td>10 de janeiro de 2020</td>\n",
       "      <td>app bem interativo bastante opcoes transacoes ...</td>\n",
       "      <td>2</td>\n",
       "    </tr>\n",
       "    <tr>\n",
       "      <th>3</th>\n",
       "      <td>Diego Santos</td>\n",
       "      <td>Excelente! Tenho algumas sugestões de melhoria...</td>\n",
       "      <td>26 de janeiro de 2020</td>\n",
       "      <td>excelente algumas sugestoes melhoria notificac...</td>\n",
       "      <td>2</td>\n",
       "    </tr>\n",
       "    <tr>\n",
       "      <th>4</th>\n",
       "      <td>Mateus Jiandotti Gonçalves</td>\n",
       "      <td>Bom dia, já tem muito tempo que uso o app do B...</td>\n",
       "      <td>23 de janeiro de 2020</td>\n",
       "      <td>bom dia ja tempo uso app banco brasil porem co...</td>\n",
       "      <td>7</td>\n",
       "    </tr>\n",
       "    <tr>\n",
       "      <th>5</th>\n",
       "      <td>Sergio Augusto Fanchioti Loureiro</td>\n",
       "      <td>App travou há 02 dias, e tive que desinstalar....</td>\n",
       "      <td>24 de janeiro de 2020</td>\n",
       "      <td>app travou ha 02 dias desinstalar reinstalar t...</td>\n",
       "      <td>6</td>\n",
       "    </tr>\n",
       "    <tr>\n",
       "      <th>6</th>\n",
       "      <td>Vanderlei Ortencio</td>\n",
       "      <td>O inicio foi tranquilo. Facilidade para baixar...</td>\n",
       "      <td>20 de janeiro de 2020</td>\n",
       "      <td>inicio tranquilo facilidade baixar instalar in...</td>\n",
       "      <td>0</td>\n",
       "    </tr>\n",
       "    <tr>\n",
       "      <th>7</th>\n",
       "      <td>Lúcio Silva</td>\n",
       "      <td>Muito bom. Uma agência na palma da mão. De tud...</td>\n",
       "      <td>10 de janeiro de 2020</td>\n",
       "      <td>bom agencia palma mao tudo pouco evitando fila...</td>\n",
       "      <td>1</td>\n",
       "    </tr>\n",
       "    <tr>\n",
       "      <th>8</th>\n",
       "      <td>Paulo Júnior</td>\n",
       "      <td>O App do Banco do Brasil é excelente! É necess...</td>\n",
       "      <td>22 de janeiro de 2020</td>\n",
       "      <td>app banco brasil excelente necessario avaliar ...</td>\n",
       "      <td>4</td>\n",
       "    </tr>\n",
       "    <tr>\n",
       "      <th>9</th>\n",
       "      <td>Renato Batista</td>\n",
       "      <td>Aplicativo esteticamente agradável, mas só est...</td>\n",
       "      <td>11 de janeiro de 2020</td>\n",
       "      <td>aplicativo esteticamente agradavel so estetica...</td>\n",
       "      <td>7</td>\n",
       "    </tr>\n",
       "  </tbody>\n",
       "</table>\n",
       "</div>"
      ],
      "text/plain": [
       "                                name  \\\n",
       "0                      Otilio Davini   \n",
       "1                      Irapuan Braga   \n",
       "2                              Allan   \n",
       "3                       Diego Santos   \n",
       "4         Mateus Jiandotti Gonçalves   \n",
       "5  Sergio Augusto Fanchioti Loureiro   \n",
       "6                 Vanderlei Ortencio   \n",
       "7                        Lúcio Silva   \n",
       "8                       Paulo Júnior   \n",
       "9                     Renato Batista   \n",
       "\n",
       "                                          raw_review                   date  \\\n",
       "0  Liberação para efetuar pagamentos pelo app é r...  27 de janeiro de 2020   \n",
       "1  O sistema BB Code, quando funciona, é bom. Mas...  20 de janeiro de 2020   \n",
       "2  App é bem interativo, te dá bastante opções de...  10 de janeiro de 2020   \n",
       "3  Excelente! Tenho algumas sugestões de melhoria...  26 de janeiro de 2020   \n",
       "4  Bom dia, já tem muito tempo que uso o app do B...  23 de janeiro de 2020   \n",
       "5  App travou há 02 dias, e tive que desinstalar....  24 de janeiro de 2020   \n",
       "6  O inicio foi tranquilo. Facilidade para baixar...  20 de janeiro de 2020   \n",
       "7  Muito bom. Uma agência na palma da mão. De tud...  10 de janeiro de 2020   \n",
       "8  O App do Banco do Brasil é excelente! É necess...  22 de janeiro de 2020   \n",
       "9  Aplicativo esteticamente agradável, mas só est...  11 de janeiro de 2020   \n",
       "\n",
       "                                        clean_review  topic  \n",
       "0  liberacao efetuar pagamentos app ruim vc nao c...      6  \n",
       "1  sistema bb code funciona bom algum problema ce...      2  \n",
       "2  app bem interativo bastante opcoes transacoes ...      2  \n",
       "3  excelente algumas sugestoes melhoria notificac...      2  \n",
       "4  bom dia ja tempo uso app banco brasil porem co...      7  \n",
       "5  app travou ha 02 dias desinstalar reinstalar t...      6  \n",
       "6  inicio tranquilo facilidade baixar instalar in...      0  \n",
       "7  bom agencia palma mao tudo pouco evitando fila...      1  \n",
       "8  app banco brasil excelente necessario avaliar ...      4  \n",
       "9  aplicativo esteticamente agradavel so estetica...      7  "
      ]
     },
     "execution_count": 33,
     "metadata": {},
     "output_type": "execute_result"
    }
   ],
   "source": [
    "df.head(10)"
   ]
  },
  {
   "cell_type": "code",
   "execution_count": 44,
   "metadata": {},
   "outputs": [],
   "source": [
    "example = df.iloc[220]"
   ]
  },
  {
   "cell_type": "code",
   "execution_count": 45,
   "metadata": {},
   "outputs": [
    {
     "data": {
      "text/plain": [
       "'Estou muito satisfeito com esse aplicativo do banco do Brasil. Abri facilmente a conta e já consegui fazer até transferência para outros bancos.'"
      ]
     },
     "execution_count": 45,
     "metadata": {},
     "output_type": "execute_result"
    }
   ],
   "source": [
    "example['raw_review']"
   ]
  },
  {
   "cell_type": "code",
   "execution_count": 46,
   "metadata": {},
   "outputs": [
    {
     "data": {
      "text/plain": [
       "7"
      ]
     },
     "execution_count": 46,
     "metadata": {},
     "output_type": "execute_result"
    }
   ],
   "source": [
    "example['topic']"
   ]
  },
  {
   "cell_type": "code",
   "execution_count": 47,
   "metadata": {},
   "outputs": [],
   "source": [
    "example_words = LDA.components_[example['topic']].argsort()[-15:]"
   ]
  },
  {
   "cell_type": "code",
   "execution_count": 48,
   "metadata": {},
   "outputs": [
    {
     "name": "stdout",
     "output_type": "stream",
     "text": [
      "['fazer', 'sempre', 'banco', 'todas', 'agencia', 'ter', 'ir', 'atende', 'necessidades', 'pra', 'nao', 'app', 'conta', 'bom', 'aplicativo']\n"
     ]
    }
   ],
   "source": [
    "print([cv.get_feature_names()[i] for i in example_words])"
   ]
  }
 ],
 "metadata": {
  "kernelspec": {
   "display_name": "Python 3",
   "language": "python",
   "name": "python3"
  },
  "language_info": {
   "codemirror_mode": {
    "name": "ipython",
    "version": 3
   },
   "file_extension": ".py",
   "mimetype": "text/x-python",
   "name": "python",
   "nbconvert_exporter": "python",
   "pygments_lexer": "ipython3",
   "version": "3.7.3"
  }
 },
 "nbformat": 4,
 "nbformat_minor": 2
}
